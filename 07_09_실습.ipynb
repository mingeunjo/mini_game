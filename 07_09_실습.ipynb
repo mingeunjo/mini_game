{
  "nbformat": 4,
  "nbformat_minor": 0,
  "metadata": {
    "colab": {
      "provenance": [],
      "authorship_tag": "ABX9TyMEJ3N7Qqi1bCvWWZZOATs9",
      "include_colab_link": true
    },
    "kernelspec": {
      "name": "python3",
      "display_name": "Python 3"
    },
    "language_info": {
      "name": "python"
    }
  },
  "cells": [
    {
      "cell_type": "markdown",
      "metadata": {
        "id": "view-in-github",
        "colab_type": "text"
      },
      "source": [
        "<a href=\"https://colab.research.google.com/github/mingeunjo/mini_game/blob/USER/07_09_%EC%8B%A4%EC%8A%B5.ipynb\" target=\"_parent\"><img src=\"https://colab.research.google.com/assets/colab-badge.svg\" alt=\"Open In Colab\"/></a>"
      ]
    },
    {
      "cell_type": "code",
      "source": [
        "# 구글 드라이브 마운트\n",
        "from google.colab import drive\n",
        "drive.mount('/content/drive')"
      ],
      "metadata": {
        "colab": {
          "base_uri": "https://localhost:8080/"
        },
        "id": "4oaqNJWZxaIm",
        "outputId": "25c4f627-98f5-4616-a003-2c34065745dd"
      },
      "execution_count": 4,
      "outputs": [
        {
          "output_type": "stream",
          "name": "stdout",
          "text": [
            "Drive already mounted at /content/drive; to attempt to forcibly remount, call drive.mount(\"/content/drive\", force_remount=True).\n"
          ]
        }
      ]
    },
    {
      "cell_type": "code",
      "execution_count": 5,
      "metadata": {
        "id": "HGnR361CxOx8"
      },
      "outputs": [],
      "source": [
        "# 라이브러리 불러오기\n",
        "import pandas as pd\n",
        "import statsmodels.formula.api as smf\n",
        "import seaborn as sns\n",
        "import matplotlib.pyplot as plt"
      ]
    },
    {
      "cell_type": "code",
      "source": [
        "# 나눔고딕 설치\n",
        "!apt-get -qq install -y fonts-nanum\n",
        "\n",
        "# 런타임 재시작 없이 경로 확인\n",
        "import matplotlib.font_manager as fm\n",
        "import matplotlib.pyplot as plt\n",
        "\n",
        "font_list = fm.findSystemFonts(fontpaths=['/usr/share/fonts/truetype/nanum/'], fontext='ttf')\n",
        "nanum_font_path = [f for f in font_list if 'NanumGothic' in f][0]\n",
        "\n",
        "print(\"📌 설치된 나눔고딕 경로:\", nanum_font_path)"
      ],
      "metadata": {
        "colab": {
          "base_uri": "https://localhost:8080/"
        },
        "id": "IshYh7LBzcR3",
        "outputId": "e5a62639-68f1-4e53-8c45-5f6db46dcd5e"
      },
      "execution_count": 26,
      "outputs": [
        {
          "output_type": "stream",
          "name": "stdout",
          "text": [
            "📌 설치된 나눔고딕 경로: /usr/share/fonts/truetype/nanum/NanumGothic.ttf\n"
          ]
        }
      ]
    },
    {
      "cell_type": "code",
      "source": [
        "data_2 = '/content/drive/MyDrive/ColabNotebooks/인사교6기_데이터분석/data/Carseats.csv'"
      ],
      "metadata": {
        "id": "kS8n-HobYldx"
      },
      "execution_count": 11,
      "outputs": []
    },
    {
      "cell_type": "code",
      "source": [
        "data_1 = pd.read_csv(data_2)\n",
        "data_1"
      ],
      "metadata": {
        "colab": {
          "base_uri": "https://localhost:8080/",
          "height": 424
        },
        "id": "qBcEnOEVYlcN",
        "outputId": "4ce34f40-dce7-459a-b2e0-a07a201167fa"
      },
      "execution_count": 12,
      "outputs": [
        {
          "output_type": "execute_result",
          "data": {
            "text/plain": [
              "     Sales  CompPrice  Income  Advertising  Population  Price ShelveLoc  Age  \\\n",
              "0     9.50        138      73           11         276    120       Bad   42   \n",
              "1    11.22        111      48           16         260     83      Good   65   \n",
              "2    10.06        113      35           10         269     80    Medium   59   \n",
              "3     7.40        117     100            4         466     97    Medium   55   \n",
              "4     4.15        141      64            3         340    128       Bad   38   \n",
              "..     ...        ...     ...          ...         ...    ...       ...  ...   \n",
              "395  12.57        138     108           17         203    128      Good   33   \n",
              "396   6.14        139      23            3          37    120    Medium   55   \n",
              "397   7.41        162      26           12         368    159    Medium   40   \n",
              "398   5.94        100      79            7         284     95       Bad   50   \n",
              "399   9.71        134      37            0          27    120      Good   49   \n",
              "\n",
              "     Education Urban   US  \n",
              "0           17   Yes  Yes  \n",
              "1           10   Yes  Yes  \n",
              "2           12   Yes  Yes  \n",
              "3           14   Yes  Yes  \n",
              "4           13   Yes   No  \n",
              "..         ...   ...  ...  \n",
              "395         14   Yes  Yes  \n",
              "396         11    No  Yes  \n",
              "397         18   Yes  Yes  \n",
              "398         12   Yes  Yes  \n",
              "399         16   Yes  Yes  \n",
              "\n",
              "[400 rows x 11 columns]"
            ],
            "text/html": [
              "\n",
              "  <div id=\"df-62ad4983-3b28-44ba-92e5-e99e75b76f49\" class=\"colab-df-container\">\n",
              "    <div>\n",
              "<style scoped>\n",
              "    .dataframe tbody tr th:only-of-type {\n",
              "        vertical-align: middle;\n",
              "    }\n",
              "\n",
              "    .dataframe tbody tr th {\n",
              "        vertical-align: top;\n",
              "    }\n",
              "\n",
              "    .dataframe thead th {\n",
              "        text-align: right;\n",
              "    }\n",
              "</style>\n",
              "<table border=\"1\" class=\"dataframe\">\n",
              "  <thead>\n",
              "    <tr style=\"text-align: right;\">\n",
              "      <th></th>\n",
              "      <th>Sales</th>\n",
              "      <th>CompPrice</th>\n",
              "      <th>Income</th>\n",
              "      <th>Advertising</th>\n",
              "      <th>Population</th>\n",
              "      <th>Price</th>\n",
              "      <th>ShelveLoc</th>\n",
              "      <th>Age</th>\n",
              "      <th>Education</th>\n",
              "      <th>Urban</th>\n",
              "      <th>US</th>\n",
              "    </tr>\n",
              "  </thead>\n",
              "  <tbody>\n",
              "    <tr>\n",
              "      <th>0</th>\n",
              "      <td>9.50</td>\n",
              "      <td>138</td>\n",
              "      <td>73</td>\n",
              "      <td>11</td>\n",
              "      <td>276</td>\n",
              "      <td>120</td>\n",
              "      <td>Bad</td>\n",
              "      <td>42</td>\n",
              "      <td>17</td>\n",
              "      <td>Yes</td>\n",
              "      <td>Yes</td>\n",
              "    </tr>\n",
              "    <tr>\n",
              "      <th>1</th>\n",
              "      <td>11.22</td>\n",
              "      <td>111</td>\n",
              "      <td>48</td>\n",
              "      <td>16</td>\n",
              "      <td>260</td>\n",
              "      <td>83</td>\n",
              "      <td>Good</td>\n",
              "      <td>65</td>\n",
              "      <td>10</td>\n",
              "      <td>Yes</td>\n",
              "      <td>Yes</td>\n",
              "    </tr>\n",
              "    <tr>\n",
              "      <th>2</th>\n",
              "      <td>10.06</td>\n",
              "      <td>113</td>\n",
              "      <td>35</td>\n",
              "      <td>10</td>\n",
              "      <td>269</td>\n",
              "      <td>80</td>\n",
              "      <td>Medium</td>\n",
              "      <td>59</td>\n",
              "      <td>12</td>\n",
              "      <td>Yes</td>\n",
              "      <td>Yes</td>\n",
              "    </tr>\n",
              "    <tr>\n",
              "      <th>3</th>\n",
              "      <td>7.40</td>\n",
              "      <td>117</td>\n",
              "      <td>100</td>\n",
              "      <td>4</td>\n",
              "      <td>466</td>\n",
              "      <td>97</td>\n",
              "      <td>Medium</td>\n",
              "      <td>55</td>\n",
              "      <td>14</td>\n",
              "      <td>Yes</td>\n",
              "      <td>Yes</td>\n",
              "    </tr>\n",
              "    <tr>\n",
              "      <th>4</th>\n",
              "      <td>4.15</td>\n",
              "      <td>141</td>\n",
              "      <td>64</td>\n",
              "      <td>3</td>\n",
              "      <td>340</td>\n",
              "      <td>128</td>\n",
              "      <td>Bad</td>\n",
              "      <td>38</td>\n",
              "      <td>13</td>\n",
              "      <td>Yes</td>\n",
              "      <td>No</td>\n",
              "    </tr>\n",
              "    <tr>\n",
              "      <th>...</th>\n",
              "      <td>...</td>\n",
              "      <td>...</td>\n",
              "      <td>...</td>\n",
              "      <td>...</td>\n",
              "      <td>...</td>\n",
              "      <td>...</td>\n",
              "      <td>...</td>\n",
              "      <td>...</td>\n",
              "      <td>...</td>\n",
              "      <td>...</td>\n",
              "      <td>...</td>\n",
              "    </tr>\n",
              "    <tr>\n",
              "      <th>395</th>\n",
              "      <td>12.57</td>\n",
              "      <td>138</td>\n",
              "      <td>108</td>\n",
              "      <td>17</td>\n",
              "      <td>203</td>\n",
              "      <td>128</td>\n",
              "      <td>Good</td>\n",
              "      <td>33</td>\n",
              "      <td>14</td>\n",
              "      <td>Yes</td>\n",
              "      <td>Yes</td>\n",
              "    </tr>\n",
              "    <tr>\n",
              "      <th>396</th>\n",
              "      <td>6.14</td>\n",
              "      <td>139</td>\n",
              "      <td>23</td>\n",
              "      <td>3</td>\n",
              "      <td>37</td>\n",
              "      <td>120</td>\n",
              "      <td>Medium</td>\n",
              "      <td>55</td>\n",
              "      <td>11</td>\n",
              "      <td>No</td>\n",
              "      <td>Yes</td>\n",
              "    </tr>\n",
              "    <tr>\n",
              "      <th>397</th>\n",
              "      <td>7.41</td>\n",
              "      <td>162</td>\n",
              "      <td>26</td>\n",
              "      <td>12</td>\n",
              "      <td>368</td>\n",
              "      <td>159</td>\n",
              "      <td>Medium</td>\n",
              "      <td>40</td>\n",
              "      <td>18</td>\n",
              "      <td>Yes</td>\n",
              "      <td>Yes</td>\n",
              "    </tr>\n",
              "    <tr>\n",
              "      <th>398</th>\n",
              "      <td>5.94</td>\n",
              "      <td>100</td>\n",
              "      <td>79</td>\n",
              "      <td>7</td>\n",
              "      <td>284</td>\n",
              "      <td>95</td>\n",
              "      <td>Bad</td>\n",
              "      <td>50</td>\n",
              "      <td>12</td>\n",
              "      <td>Yes</td>\n",
              "      <td>Yes</td>\n",
              "    </tr>\n",
              "    <tr>\n",
              "      <th>399</th>\n",
              "      <td>9.71</td>\n",
              "      <td>134</td>\n",
              "      <td>37</td>\n",
              "      <td>0</td>\n",
              "      <td>27</td>\n",
              "      <td>120</td>\n",
              "      <td>Good</td>\n",
              "      <td>49</td>\n",
              "      <td>16</td>\n",
              "      <td>Yes</td>\n",
              "      <td>Yes</td>\n",
              "    </tr>\n",
              "  </tbody>\n",
              "</table>\n",
              "<p>400 rows × 11 columns</p>\n",
              "</div>\n",
              "    <div class=\"colab-df-buttons\">\n",
              "\n",
              "  <div class=\"colab-df-container\">\n",
              "    <button class=\"colab-df-convert\" onclick=\"convertToInteractive('df-62ad4983-3b28-44ba-92e5-e99e75b76f49')\"\n",
              "            title=\"Convert this dataframe to an interactive table.\"\n",
              "            style=\"display:none;\">\n",
              "\n",
              "  <svg xmlns=\"http://www.w3.org/2000/svg\" height=\"24px\" viewBox=\"0 -960 960 960\">\n",
              "    <path d=\"M120-120v-720h720v720H120Zm60-500h600v-160H180v160Zm220 220h160v-160H400v160Zm0 220h160v-160H400v160ZM180-400h160v-160H180v160Zm440 0h160v-160H620v160ZM180-180h160v-160H180v160Zm440 0h160v-160H620v160Z\"/>\n",
              "  </svg>\n",
              "    </button>\n",
              "\n",
              "  <style>\n",
              "    .colab-df-container {\n",
              "      display:flex;\n",
              "      gap: 12px;\n",
              "    }\n",
              "\n",
              "    .colab-df-convert {\n",
              "      background-color: #E8F0FE;\n",
              "      border: none;\n",
              "      border-radius: 50%;\n",
              "      cursor: pointer;\n",
              "      display: none;\n",
              "      fill: #1967D2;\n",
              "      height: 32px;\n",
              "      padding: 0 0 0 0;\n",
              "      width: 32px;\n",
              "    }\n",
              "\n",
              "    .colab-df-convert:hover {\n",
              "      background-color: #E2EBFA;\n",
              "      box-shadow: 0px 1px 2px rgba(60, 64, 67, 0.3), 0px 1px 3px 1px rgba(60, 64, 67, 0.15);\n",
              "      fill: #174EA6;\n",
              "    }\n",
              "\n",
              "    .colab-df-buttons div {\n",
              "      margin-bottom: 4px;\n",
              "    }\n",
              "\n",
              "    [theme=dark] .colab-df-convert {\n",
              "      background-color: #3B4455;\n",
              "      fill: #D2E3FC;\n",
              "    }\n",
              "\n",
              "    [theme=dark] .colab-df-convert:hover {\n",
              "      background-color: #434B5C;\n",
              "      box-shadow: 0px 1px 3px 1px rgba(0, 0, 0, 0.15);\n",
              "      filter: drop-shadow(0px 1px 2px rgba(0, 0, 0, 0.3));\n",
              "      fill: #FFFFFF;\n",
              "    }\n",
              "  </style>\n",
              "\n",
              "    <script>\n",
              "      const buttonEl =\n",
              "        document.querySelector('#df-62ad4983-3b28-44ba-92e5-e99e75b76f49 button.colab-df-convert');\n",
              "      buttonEl.style.display =\n",
              "        google.colab.kernel.accessAllowed ? 'block' : 'none';\n",
              "\n",
              "      async function convertToInteractive(key) {\n",
              "        const element = document.querySelector('#df-62ad4983-3b28-44ba-92e5-e99e75b76f49');\n",
              "        const dataTable =\n",
              "          await google.colab.kernel.invokeFunction('convertToInteractive',\n",
              "                                                    [key], {});\n",
              "        if (!dataTable) return;\n",
              "\n",
              "        const docLinkHtml = 'Like what you see? Visit the ' +\n",
              "          '<a target=\"_blank\" href=https://colab.research.google.com/notebooks/data_table.ipynb>data table notebook</a>'\n",
              "          + ' to learn more about interactive tables.';\n",
              "        element.innerHTML = '';\n",
              "        dataTable['output_type'] = 'display_data';\n",
              "        await google.colab.output.renderOutput(dataTable, element);\n",
              "        const docLink = document.createElement('div');\n",
              "        docLink.innerHTML = docLinkHtml;\n",
              "        element.appendChild(docLink);\n",
              "      }\n",
              "    </script>\n",
              "  </div>\n",
              "\n",
              "\n",
              "    <div id=\"df-fbbad4ec-7e85-493c-bb8b-74040dc6a4e9\">\n",
              "      <button class=\"colab-df-quickchart\" onclick=\"quickchart('df-fbbad4ec-7e85-493c-bb8b-74040dc6a4e9')\"\n",
              "                title=\"Suggest charts\"\n",
              "                style=\"display:none;\">\n",
              "\n",
              "<svg xmlns=\"http://www.w3.org/2000/svg\" height=\"24px\"viewBox=\"0 0 24 24\"\n",
              "     width=\"24px\">\n",
              "    <g>\n",
              "        <path d=\"M19 3H5c-1.1 0-2 .9-2 2v14c0 1.1.9 2 2 2h14c1.1 0 2-.9 2-2V5c0-1.1-.9-2-2-2zM9 17H7v-7h2v7zm4 0h-2V7h2v10zm4 0h-2v-4h2v4z\"/>\n",
              "    </g>\n",
              "</svg>\n",
              "      </button>\n",
              "\n",
              "<style>\n",
              "  .colab-df-quickchart {\n",
              "      --bg-color: #E8F0FE;\n",
              "      --fill-color: #1967D2;\n",
              "      --hover-bg-color: #E2EBFA;\n",
              "      --hover-fill-color: #174EA6;\n",
              "      --disabled-fill-color: #AAA;\n",
              "      --disabled-bg-color: #DDD;\n",
              "  }\n",
              "\n",
              "  [theme=dark] .colab-df-quickchart {\n",
              "      --bg-color: #3B4455;\n",
              "      --fill-color: #D2E3FC;\n",
              "      --hover-bg-color: #434B5C;\n",
              "      --hover-fill-color: #FFFFFF;\n",
              "      --disabled-bg-color: #3B4455;\n",
              "      --disabled-fill-color: #666;\n",
              "  }\n",
              "\n",
              "  .colab-df-quickchart {\n",
              "    background-color: var(--bg-color);\n",
              "    border: none;\n",
              "    border-radius: 50%;\n",
              "    cursor: pointer;\n",
              "    display: none;\n",
              "    fill: var(--fill-color);\n",
              "    height: 32px;\n",
              "    padding: 0;\n",
              "    width: 32px;\n",
              "  }\n",
              "\n",
              "  .colab-df-quickchart:hover {\n",
              "    background-color: var(--hover-bg-color);\n",
              "    box-shadow: 0 1px 2px rgba(60, 64, 67, 0.3), 0 1px 3px 1px rgba(60, 64, 67, 0.15);\n",
              "    fill: var(--button-hover-fill-color);\n",
              "  }\n",
              "\n",
              "  .colab-df-quickchart-complete:disabled,\n",
              "  .colab-df-quickchart-complete:disabled:hover {\n",
              "    background-color: var(--disabled-bg-color);\n",
              "    fill: var(--disabled-fill-color);\n",
              "    box-shadow: none;\n",
              "  }\n",
              "\n",
              "  .colab-df-spinner {\n",
              "    border: 2px solid var(--fill-color);\n",
              "    border-color: transparent;\n",
              "    border-bottom-color: var(--fill-color);\n",
              "    animation:\n",
              "      spin 1s steps(1) infinite;\n",
              "  }\n",
              "\n",
              "  @keyframes spin {\n",
              "    0% {\n",
              "      border-color: transparent;\n",
              "      border-bottom-color: var(--fill-color);\n",
              "      border-left-color: var(--fill-color);\n",
              "    }\n",
              "    20% {\n",
              "      border-color: transparent;\n",
              "      border-left-color: var(--fill-color);\n",
              "      border-top-color: var(--fill-color);\n",
              "    }\n",
              "    30% {\n",
              "      border-color: transparent;\n",
              "      border-left-color: var(--fill-color);\n",
              "      border-top-color: var(--fill-color);\n",
              "      border-right-color: var(--fill-color);\n",
              "    }\n",
              "    40% {\n",
              "      border-color: transparent;\n",
              "      border-right-color: var(--fill-color);\n",
              "      border-top-color: var(--fill-color);\n",
              "    }\n",
              "    60% {\n",
              "      border-color: transparent;\n",
              "      border-right-color: var(--fill-color);\n",
              "    }\n",
              "    80% {\n",
              "      border-color: transparent;\n",
              "      border-right-color: var(--fill-color);\n",
              "      border-bottom-color: var(--fill-color);\n",
              "    }\n",
              "    90% {\n",
              "      border-color: transparent;\n",
              "      border-bottom-color: var(--fill-color);\n",
              "    }\n",
              "  }\n",
              "</style>\n",
              "\n",
              "      <script>\n",
              "        async function quickchart(key) {\n",
              "          const quickchartButtonEl =\n",
              "            document.querySelector('#' + key + ' button');\n",
              "          quickchartButtonEl.disabled = true;  // To prevent multiple clicks.\n",
              "          quickchartButtonEl.classList.add('colab-df-spinner');\n",
              "          try {\n",
              "            const charts = await google.colab.kernel.invokeFunction(\n",
              "                'suggestCharts', [key], {});\n",
              "          } catch (error) {\n",
              "            console.error('Error during call to suggestCharts:', error);\n",
              "          }\n",
              "          quickchartButtonEl.classList.remove('colab-df-spinner');\n",
              "          quickchartButtonEl.classList.add('colab-df-quickchart-complete');\n",
              "        }\n",
              "        (() => {\n",
              "          let quickchartButtonEl =\n",
              "            document.querySelector('#df-fbbad4ec-7e85-493c-bb8b-74040dc6a4e9 button');\n",
              "          quickchartButtonEl.style.display =\n",
              "            google.colab.kernel.accessAllowed ? 'block' : 'none';\n",
              "        })();\n",
              "      </script>\n",
              "    </div>\n",
              "\n",
              "  <div id=\"id_207e022d-28dd-4d0b-9052-43de29ccee5a\">\n",
              "    <style>\n",
              "      .colab-df-generate {\n",
              "        background-color: #E8F0FE;\n",
              "        border: none;\n",
              "        border-radius: 50%;\n",
              "        cursor: pointer;\n",
              "        display: none;\n",
              "        fill: #1967D2;\n",
              "        height: 32px;\n",
              "        padding: 0 0 0 0;\n",
              "        width: 32px;\n",
              "      }\n",
              "\n",
              "      .colab-df-generate:hover {\n",
              "        background-color: #E2EBFA;\n",
              "        box-shadow: 0px 1px 2px rgba(60, 64, 67, 0.3), 0px 1px 3px 1px rgba(60, 64, 67, 0.15);\n",
              "        fill: #174EA6;\n",
              "      }\n",
              "\n",
              "      [theme=dark] .colab-df-generate {\n",
              "        background-color: #3B4455;\n",
              "        fill: #D2E3FC;\n",
              "      }\n",
              "\n",
              "      [theme=dark] .colab-df-generate:hover {\n",
              "        background-color: #434B5C;\n",
              "        box-shadow: 0px 1px 3px 1px rgba(0, 0, 0, 0.15);\n",
              "        filter: drop-shadow(0px 1px 2px rgba(0, 0, 0, 0.3));\n",
              "        fill: #FFFFFF;\n",
              "      }\n",
              "    </style>\n",
              "    <button class=\"colab-df-generate\" onclick=\"generateWithVariable('data_1')\"\n",
              "            title=\"Generate code using this dataframe.\"\n",
              "            style=\"display:none;\">\n",
              "\n",
              "  <svg xmlns=\"http://www.w3.org/2000/svg\" height=\"24px\"viewBox=\"0 0 24 24\"\n",
              "       width=\"24px\">\n",
              "    <path d=\"M7,19H8.4L18.45,9,17,7.55,7,17.6ZM5,21V16.75L18.45,3.32a2,2,0,0,1,2.83,0l1.4,1.43a1.91,1.91,0,0,1,.58,1.4,1.91,1.91,0,0,1-.58,1.4L9.25,21ZM18.45,9,17,7.55Zm-12,3A5.31,5.31,0,0,0,4.9,8.1,5.31,5.31,0,0,0,1,6.5,5.31,5.31,0,0,0,4.9,4.9,5.31,5.31,0,0,0,6.5,1,5.31,5.31,0,0,0,8.1,4.9,5.31,5.31,0,0,0,12,6.5,5.46,5.46,0,0,0,6.5,12Z\"/>\n",
              "  </svg>\n",
              "    </button>\n",
              "    <script>\n",
              "      (() => {\n",
              "      const buttonEl =\n",
              "        document.querySelector('#id_207e022d-28dd-4d0b-9052-43de29ccee5a button.colab-df-generate');\n",
              "      buttonEl.style.display =\n",
              "        google.colab.kernel.accessAllowed ? 'block' : 'none';\n",
              "\n",
              "      buttonEl.onclick = () => {\n",
              "        google.colab.notebook.generateWithVariable('data_1');\n",
              "      }\n",
              "      })();\n",
              "    </script>\n",
              "  </div>\n",
              "\n",
              "    </div>\n",
              "  </div>\n"
            ],
            "application/vnd.google.colaboratory.intrinsic+json": {
              "type": "dataframe",
              "variable_name": "data_1",
              "summary": "{\n  \"name\": \"data_1\",\n  \"rows\": 400,\n  \"fields\": [\n    {\n      \"column\": \"Sales\",\n      \"properties\": {\n        \"dtype\": \"number\",\n        \"std\": 2.8241150488068367,\n        \"min\": 0.0,\n        \"max\": 16.27,\n        \"num_unique_values\": 336,\n        \"samples\": [\n          8.55,\n          7.57,\n          5.99\n        ],\n        \"semantic_type\": \"\",\n        \"description\": \"\"\n      }\n    },\n    {\n      \"column\": \"CompPrice\",\n      \"properties\": {\n        \"dtype\": \"number\",\n        \"std\": 15,\n        \"min\": 77,\n        \"max\": 175,\n        \"num_unique_values\": 73,\n        \"samples\": [\n          141,\n          120,\n          134\n        ],\n        \"semantic_type\": \"\",\n        \"description\": \"\"\n      }\n    },\n    {\n      \"column\": \"Income\",\n      \"properties\": {\n        \"dtype\": \"number\",\n        \"std\": 27,\n        \"min\": 21,\n        \"max\": 120,\n        \"num_unique_values\": 98,\n        \"samples\": [\n          30,\n          103,\n          55\n        ],\n        \"semantic_type\": \"\",\n        \"description\": \"\"\n      }\n    },\n    {\n      \"column\": \"Advertising\",\n      \"properties\": {\n        \"dtype\": \"number\",\n        \"std\": 6,\n        \"min\": 0,\n        \"max\": 29,\n        \"num_unique_values\": 28,\n        \"samples\": [\n          2,\n          29,\n          9\n        ],\n        \"semantic_type\": \"\",\n        \"description\": \"\"\n      }\n    },\n    {\n      \"column\": \"Population\",\n      \"properties\": {\n        \"dtype\": \"number\",\n        \"std\": 147,\n        \"min\": 10,\n        \"max\": 509,\n        \"num_unique_values\": 275,\n        \"samples\": [\n          447,\n          492,\n          467\n        ],\n        \"semantic_type\": \"\",\n        \"description\": \"\"\n      }\n    },\n    {\n      \"column\": \"Price\",\n      \"properties\": {\n        \"dtype\": \"number\",\n        \"std\": 23,\n        \"min\": 24,\n        \"max\": 191,\n        \"num_unique_values\": 101,\n        \"samples\": [\n          64,\n          139,\n          49\n        ],\n        \"semantic_type\": \"\",\n        \"description\": \"\"\n      }\n    },\n    {\n      \"column\": \"ShelveLoc\",\n      \"properties\": {\n        \"dtype\": \"category\",\n        \"num_unique_values\": 3,\n        \"samples\": [\n          \"Bad\",\n          \"Good\",\n          \"Medium\"\n        ],\n        \"semantic_type\": \"\",\n        \"description\": \"\"\n      }\n    },\n    {\n      \"column\": \"Age\",\n      \"properties\": {\n        \"dtype\": \"number\",\n        \"std\": 16,\n        \"min\": 25,\n        \"max\": 80,\n        \"num_unique_values\": 56,\n        \"samples\": [\n          42,\n          78,\n          29\n        ],\n        \"semantic_type\": \"\",\n        \"description\": \"\"\n      }\n    },\n    {\n      \"column\": \"Education\",\n      \"properties\": {\n        \"dtype\": \"number\",\n        \"std\": 2,\n        \"min\": 10,\n        \"max\": 18,\n        \"num_unique_values\": 9,\n        \"samples\": [\n          18,\n          10,\n          16\n        ],\n        \"semantic_type\": \"\",\n        \"description\": \"\"\n      }\n    },\n    {\n      \"column\": \"Urban\",\n      \"properties\": {\n        \"dtype\": \"category\",\n        \"num_unique_values\": 2,\n        \"samples\": [\n          \"No\",\n          \"Yes\"\n        ],\n        \"semantic_type\": \"\",\n        \"description\": \"\"\n      }\n    },\n    {\n      \"column\": \"US\",\n      \"properties\": {\n        \"dtype\": \"category\",\n        \"num_unique_values\": 2,\n        \"samples\": [\n          \"No\",\n          \"Yes\"\n        ],\n        \"semantic_type\": \"\",\n        \"description\": \"\"\n      }\n    }\n  ]\n}"
            }
          },
          "metadata": {},
          "execution_count": 12
        }
      ]
    },
    {
      "cell_type": "code",
      "source": [
        "# 통계량 확인\n",
        "data_1.describe()\n",
        "\n",
        "# Sales는 TV, Radio, Newpaper에 영향을 받는 종속변수"
      ],
      "metadata": {
        "colab": {
          "base_uri": "https://localhost:8080/",
          "height": 300
        },
        "id": "PCP3uTXbiyzo",
        "outputId": "c01f0bb0-db51-4bb2-fb41-5c55fa2a1c85"
      },
      "execution_count": 13,
      "outputs": [
        {
          "output_type": "execute_result",
          "data": {
            "text/plain": [
              "            Sales   CompPrice      Income  Advertising  Population  \\\n",
              "count  400.000000  400.000000  400.000000   400.000000  400.000000   \n",
              "mean     7.496325  124.975000   68.657500     6.635000  264.840000   \n",
              "std      2.824115   15.334512   27.986037     6.650364  147.376436   \n",
              "min      0.000000   77.000000   21.000000     0.000000   10.000000   \n",
              "25%      5.390000  115.000000   42.750000     0.000000  139.000000   \n",
              "50%      7.490000  125.000000   69.000000     5.000000  272.000000   \n",
              "75%      9.320000  135.000000   91.000000    12.000000  398.500000   \n",
              "max     16.270000  175.000000  120.000000    29.000000  509.000000   \n",
              "\n",
              "            Price         Age   Education  \n",
              "count  400.000000  400.000000  400.000000  \n",
              "mean   115.795000   53.322500   13.900000  \n",
              "std     23.676664   16.200297    2.620528  \n",
              "min     24.000000   25.000000   10.000000  \n",
              "25%    100.000000   39.750000   12.000000  \n",
              "50%    117.000000   54.500000   14.000000  \n",
              "75%    131.000000   66.000000   16.000000  \n",
              "max    191.000000   80.000000   18.000000  "
            ],
            "text/html": [
              "\n",
              "  <div id=\"df-04213915-7bfb-4d70-bb1a-d06be8e16ea4\" class=\"colab-df-container\">\n",
              "    <div>\n",
              "<style scoped>\n",
              "    .dataframe tbody tr th:only-of-type {\n",
              "        vertical-align: middle;\n",
              "    }\n",
              "\n",
              "    .dataframe tbody tr th {\n",
              "        vertical-align: top;\n",
              "    }\n",
              "\n",
              "    .dataframe thead th {\n",
              "        text-align: right;\n",
              "    }\n",
              "</style>\n",
              "<table border=\"1\" class=\"dataframe\">\n",
              "  <thead>\n",
              "    <tr style=\"text-align: right;\">\n",
              "      <th></th>\n",
              "      <th>Sales</th>\n",
              "      <th>CompPrice</th>\n",
              "      <th>Income</th>\n",
              "      <th>Advertising</th>\n",
              "      <th>Population</th>\n",
              "      <th>Price</th>\n",
              "      <th>Age</th>\n",
              "      <th>Education</th>\n",
              "    </tr>\n",
              "  </thead>\n",
              "  <tbody>\n",
              "    <tr>\n",
              "      <th>count</th>\n",
              "      <td>400.000000</td>\n",
              "      <td>400.000000</td>\n",
              "      <td>400.000000</td>\n",
              "      <td>400.000000</td>\n",
              "      <td>400.000000</td>\n",
              "      <td>400.000000</td>\n",
              "      <td>400.000000</td>\n",
              "      <td>400.000000</td>\n",
              "    </tr>\n",
              "    <tr>\n",
              "      <th>mean</th>\n",
              "      <td>7.496325</td>\n",
              "      <td>124.975000</td>\n",
              "      <td>68.657500</td>\n",
              "      <td>6.635000</td>\n",
              "      <td>264.840000</td>\n",
              "      <td>115.795000</td>\n",
              "      <td>53.322500</td>\n",
              "      <td>13.900000</td>\n",
              "    </tr>\n",
              "    <tr>\n",
              "      <th>std</th>\n",
              "      <td>2.824115</td>\n",
              "      <td>15.334512</td>\n",
              "      <td>27.986037</td>\n",
              "      <td>6.650364</td>\n",
              "      <td>147.376436</td>\n",
              "      <td>23.676664</td>\n",
              "      <td>16.200297</td>\n",
              "      <td>2.620528</td>\n",
              "    </tr>\n",
              "    <tr>\n",
              "      <th>min</th>\n",
              "      <td>0.000000</td>\n",
              "      <td>77.000000</td>\n",
              "      <td>21.000000</td>\n",
              "      <td>0.000000</td>\n",
              "      <td>10.000000</td>\n",
              "      <td>24.000000</td>\n",
              "      <td>25.000000</td>\n",
              "      <td>10.000000</td>\n",
              "    </tr>\n",
              "    <tr>\n",
              "      <th>25%</th>\n",
              "      <td>5.390000</td>\n",
              "      <td>115.000000</td>\n",
              "      <td>42.750000</td>\n",
              "      <td>0.000000</td>\n",
              "      <td>139.000000</td>\n",
              "      <td>100.000000</td>\n",
              "      <td>39.750000</td>\n",
              "      <td>12.000000</td>\n",
              "    </tr>\n",
              "    <tr>\n",
              "      <th>50%</th>\n",
              "      <td>7.490000</td>\n",
              "      <td>125.000000</td>\n",
              "      <td>69.000000</td>\n",
              "      <td>5.000000</td>\n",
              "      <td>272.000000</td>\n",
              "      <td>117.000000</td>\n",
              "      <td>54.500000</td>\n",
              "      <td>14.000000</td>\n",
              "    </tr>\n",
              "    <tr>\n",
              "      <th>75%</th>\n",
              "      <td>9.320000</td>\n",
              "      <td>135.000000</td>\n",
              "      <td>91.000000</td>\n",
              "      <td>12.000000</td>\n",
              "      <td>398.500000</td>\n",
              "      <td>131.000000</td>\n",
              "      <td>66.000000</td>\n",
              "      <td>16.000000</td>\n",
              "    </tr>\n",
              "    <tr>\n",
              "      <th>max</th>\n",
              "      <td>16.270000</td>\n",
              "      <td>175.000000</td>\n",
              "      <td>120.000000</td>\n",
              "      <td>29.000000</td>\n",
              "      <td>509.000000</td>\n",
              "      <td>191.000000</td>\n",
              "      <td>80.000000</td>\n",
              "      <td>18.000000</td>\n",
              "    </tr>\n",
              "  </tbody>\n",
              "</table>\n",
              "</div>\n",
              "    <div class=\"colab-df-buttons\">\n",
              "\n",
              "  <div class=\"colab-df-container\">\n",
              "    <button class=\"colab-df-convert\" onclick=\"convertToInteractive('df-04213915-7bfb-4d70-bb1a-d06be8e16ea4')\"\n",
              "            title=\"Convert this dataframe to an interactive table.\"\n",
              "            style=\"display:none;\">\n",
              "\n",
              "  <svg xmlns=\"http://www.w3.org/2000/svg\" height=\"24px\" viewBox=\"0 -960 960 960\">\n",
              "    <path d=\"M120-120v-720h720v720H120Zm60-500h600v-160H180v160Zm220 220h160v-160H400v160Zm0 220h160v-160H400v160ZM180-400h160v-160H180v160Zm440 0h160v-160H620v160ZM180-180h160v-160H180v160Zm440 0h160v-160H620v160Z\"/>\n",
              "  </svg>\n",
              "    </button>\n",
              "\n",
              "  <style>\n",
              "    .colab-df-container {\n",
              "      display:flex;\n",
              "      gap: 12px;\n",
              "    }\n",
              "\n",
              "    .colab-df-convert {\n",
              "      background-color: #E8F0FE;\n",
              "      border: none;\n",
              "      border-radius: 50%;\n",
              "      cursor: pointer;\n",
              "      display: none;\n",
              "      fill: #1967D2;\n",
              "      height: 32px;\n",
              "      padding: 0 0 0 0;\n",
              "      width: 32px;\n",
              "    }\n",
              "\n",
              "    .colab-df-convert:hover {\n",
              "      background-color: #E2EBFA;\n",
              "      box-shadow: 0px 1px 2px rgba(60, 64, 67, 0.3), 0px 1px 3px 1px rgba(60, 64, 67, 0.15);\n",
              "      fill: #174EA6;\n",
              "    }\n",
              "\n",
              "    .colab-df-buttons div {\n",
              "      margin-bottom: 4px;\n",
              "    }\n",
              "\n",
              "    [theme=dark] .colab-df-convert {\n",
              "      background-color: #3B4455;\n",
              "      fill: #D2E3FC;\n",
              "    }\n",
              "\n",
              "    [theme=dark] .colab-df-convert:hover {\n",
              "      background-color: #434B5C;\n",
              "      box-shadow: 0px 1px 3px 1px rgba(0, 0, 0, 0.15);\n",
              "      filter: drop-shadow(0px 1px 2px rgba(0, 0, 0, 0.3));\n",
              "      fill: #FFFFFF;\n",
              "    }\n",
              "  </style>\n",
              "\n",
              "    <script>\n",
              "      const buttonEl =\n",
              "        document.querySelector('#df-04213915-7bfb-4d70-bb1a-d06be8e16ea4 button.colab-df-convert');\n",
              "      buttonEl.style.display =\n",
              "        google.colab.kernel.accessAllowed ? 'block' : 'none';\n",
              "\n",
              "      async function convertToInteractive(key) {\n",
              "        const element = document.querySelector('#df-04213915-7bfb-4d70-bb1a-d06be8e16ea4');\n",
              "        const dataTable =\n",
              "          await google.colab.kernel.invokeFunction('convertToInteractive',\n",
              "                                                    [key], {});\n",
              "        if (!dataTable) return;\n",
              "\n",
              "        const docLinkHtml = 'Like what you see? Visit the ' +\n",
              "          '<a target=\"_blank\" href=https://colab.research.google.com/notebooks/data_table.ipynb>data table notebook</a>'\n",
              "          + ' to learn more about interactive tables.';\n",
              "        element.innerHTML = '';\n",
              "        dataTable['output_type'] = 'display_data';\n",
              "        await google.colab.output.renderOutput(dataTable, element);\n",
              "        const docLink = document.createElement('div');\n",
              "        docLink.innerHTML = docLinkHtml;\n",
              "        element.appendChild(docLink);\n",
              "      }\n",
              "    </script>\n",
              "  </div>\n",
              "\n",
              "\n",
              "    <div id=\"df-ef5ba3f1-15e0-44bc-a3e6-a8216fafbbc9\">\n",
              "      <button class=\"colab-df-quickchart\" onclick=\"quickchart('df-ef5ba3f1-15e0-44bc-a3e6-a8216fafbbc9')\"\n",
              "                title=\"Suggest charts\"\n",
              "                style=\"display:none;\">\n",
              "\n",
              "<svg xmlns=\"http://www.w3.org/2000/svg\" height=\"24px\"viewBox=\"0 0 24 24\"\n",
              "     width=\"24px\">\n",
              "    <g>\n",
              "        <path d=\"M19 3H5c-1.1 0-2 .9-2 2v14c0 1.1.9 2 2 2h14c1.1 0 2-.9 2-2V5c0-1.1-.9-2-2-2zM9 17H7v-7h2v7zm4 0h-2V7h2v10zm4 0h-2v-4h2v4z\"/>\n",
              "    </g>\n",
              "</svg>\n",
              "      </button>\n",
              "\n",
              "<style>\n",
              "  .colab-df-quickchart {\n",
              "      --bg-color: #E8F0FE;\n",
              "      --fill-color: #1967D2;\n",
              "      --hover-bg-color: #E2EBFA;\n",
              "      --hover-fill-color: #174EA6;\n",
              "      --disabled-fill-color: #AAA;\n",
              "      --disabled-bg-color: #DDD;\n",
              "  }\n",
              "\n",
              "  [theme=dark] .colab-df-quickchart {\n",
              "      --bg-color: #3B4455;\n",
              "      --fill-color: #D2E3FC;\n",
              "      --hover-bg-color: #434B5C;\n",
              "      --hover-fill-color: #FFFFFF;\n",
              "      --disabled-bg-color: #3B4455;\n",
              "      --disabled-fill-color: #666;\n",
              "  }\n",
              "\n",
              "  .colab-df-quickchart {\n",
              "    background-color: var(--bg-color);\n",
              "    border: none;\n",
              "    border-radius: 50%;\n",
              "    cursor: pointer;\n",
              "    display: none;\n",
              "    fill: var(--fill-color);\n",
              "    height: 32px;\n",
              "    padding: 0;\n",
              "    width: 32px;\n",
              "  }\n",
              "\n",
              "  .colab-df-quickchart:hover {\n",
              "    background-color: var(--hover-bg-color);\n",
              "    box-shadow: 0 1px 2px rgba(60, 64, 67, 0.3), 0 1px 3px 1px rgba(60, 64, 67, 0.15);\n",
              "    fill: var(--button-hover-fill-color);\n",
              "  }\n",
              "\n",
              "  .colab-df-quickchart-complete:disabled,\n",
              "  .colab-df-quickchart-complete:disabled:hover {\n",
              "    background-color: var(--disabled-bg-color);\n",
              "    fill: var(--disabled-fill-color);\n",
              "    box-shadow: none;\n",
              "  }\n",
              "\n",
              "  .colab-df-spinner {\n",
              "    border: 2px solid var(--fill-color);\n",
              "    border-color: transparent;\n",
              "    border-bottom-color: var(--fill-color);\n",
              "    animation:\n",
              "      spin 1s steps(1) infinite;\n",
              "  }\n",
              "\n",
              "  @keyframes spin {\n",
              "    0% {\n",
              "      border-color: transparent;\n",
              "      border-bottom-color: var(--fill-color);\n",
              "      border-left-color: var(--fill-color);\n",
              "    }\n",
              "    20% {\n",
              "      border-color: transparent;\n",
              "      border-left-color: var(--fill-color);\n",
              "      border-top-color: var(--fill-color);\n",
              "    }\n",
              "    30% {\n",
              "      border-color: transparent;\n",
              "      border-left-color: var(--fill-color);\n",
              "      border-top-color: var(--fill-color);\n",
              "      border-right-color: var(--fill-color);\n",
              "    }\n",
              "    40% {\n",
              "      border-color: transparent;\n",
              "      border-right-color: var(--fill-color);\n",
              "      border-top-color: var(--fill-color);\n",
              "    }\n",
              "    60% {\n",
              "      border-color: transparent;\n",
              "      border-right-color: var(--fill-color);\n",
              "    }\n",
              "    80% {\n",
              "      border-color: transparent;\n",
              "      border-right-color: var(--fill-color);\n",
              "      border-bottom-color: var(--fill-color);\n",
              "    }\n",
              "    90% {\n",
              "      border-color: transparent;\n",
              "      border-bottom-color: var(--fill-color);\n",
              "    }\n",
              "  }\n",
              "</style>\n",
              "\n",
              "      <script>\n",
              "        async function quickchart(key) {\n",
              "          const quickchartButtonEl =\n",
              "            document.querySelector('#' + key + ' button');\n",
              "          quickchartButtonEl.disabled = true;  // To prevent multiple clicks.\n",
              "          quickchartButtonEl.classList.add('colab-df-spinner');\n",
              "          try {\n",
              "            const charts = await google.colab.kernel.invokeFunction(\n",
              "                'suggestCharts', [key], {});\n",
              "          } catch (error) {\n",
              "            console.error('Error during call to suggestCharts:', error);\n",
              "          }\n",
              "          quickchartButtonEl.classList.remove('colab-df-spinner');\n",
              "          quickchartButtonEl.classList.add('colab-df-quickchart-complete');\n",
              "        }\n",
              "        (() => {\n",
              "          let quickchartButtonEl =\n",
              "            document.querySelector('#df-ef5ba3f1-15e0-44bc-a3e6-a8216fafbbc9 button');\n",
              "          quickchartButtonEl.style.display =\n",
              "            google.colab.kernel.accessAllowed ? 'block' : 'none';\n",
              "        })();\n",
              "      </script>\n",
              "    </div>\n",
              "\n",
              "    </div>\n",
              "  </div>\n"
            ],
            "application/vnd.google.colaboratory.intrinsic+json": {
              "type": "dataframe",
              "summary": "{\n  \"name\": \"# Sales\\ub294 TV, Radio, Newpaper\\uc5d0 \\uc601\\ud5a5\\uc744 \\ubc1b\\ub294 \\uc885\\uc18d\\ubcc0\\uc218\",\n  \"rows\": 8,\n  \"fields\": [\n    {\n      \"column\": \"Sales\",\n      \"properties\": {\n        \"dtype\": \"number\",\n        \"std\": 139.03971201958007,\n        \"min\": 0.0,\n        \"max\": 400.0,\n        \"num_unique_values\": 8,\n        \"samples\": [\n          7.496325000000001,\n          7.49,\n          400.0\n        ],\n        \"semantic_type\": \"\",\n        \"description\": \"\"\n      }\n    },\n    {\n      \"column\": \"CompPrice\",\n      \"properties\": {\n        \"dtype\": \"number\",\n        \"std\": 112.8567112453093,\n        \"min\": 15.334511505351898,\n        \"max\": 400.0,\n        \"num_unique_values\": 8,\n        \"samples\": [\n          124.975,\n          125.0,\n          400.0\n        ],\n        \"semantic_type\": \"\",\n        \"description\": \"\"\n      }\n    },\n    {\n      \"column\": \"Income\",\n      \"properties\": {\n        \"dtype\": \"number\",\n        \"std\": 123.59205419463144,\n        \"min\": 21.0,\n        \"max\": 400.0,\n        \"num_unique_values\": 8,\n        \"samples\": [\n          68.6575,\n          69.0,\n          400.0\n        ],\n        \"semantic_type\": \"\",\n        \"description\": \"\"\n      }\n    },\n    {\n      \"column\": \"Advertising\",\n      \"properties\": {\n        \"dtype\": \"number\",\n        \"std\": 138.73426286702255,\n        \"min\": 0.0,\n        \"max\": 400.0,\n        \"num_unique_values\": 7,\n        \"samples\": [\n          400.0,\n          6.635,\n          12.0\n        ],\n        \"semantic_type\": \"\",\n        \"description\": \"\"\n      }\n    },\n    {\n      \"column\": \"Population\",\n      \"properties\": {\n        \"dtype\": \"number\",\n        \"std\": 164.88737802765365,\n        \"min\": 10.0,\n        \"max\": 509.0,\n        \"num_unique_values\": 8,\n        \"samples\": [\n          264.84,\n          272.0,\n          400.0\n        ],\n        \"semantic_type\": \"\",\n        \"description\": \"\"\n      }\n    },\n    {\n      \"column\": \"Price\",\n      \"properties\": {\n        \"dtype\": \"number\",\n        \"std\": 119.49034337337763,\n        \"min\": 23.676664378459755,\n        \"max\": 400.0,\n        \"num_unique_values\": 8,\n        \"samples\": [\n          115.795,\n          117.0,\n          400.0\n        ],\n        \"semantic_type\": \"\",\n        \"description\": \"\"\n      }\n    },\n    {\n      \"column\": \"Age\",\n      \"properties\": {\n        \"dtype\": \"number\",\n        \"std\": 126.2371171653469,\n        \"min\": 16.200296842789225,\n        \"max\": 400.0,\n        \"num_unique_values\": 8,\n        \"samples\": [\n          53.3225,\n          54.5,\n          400.0\n        ],\n        \"semantic_type\": \"\",\n        \"description\": \"\"\n      }\n    },\n    {\n      \"column\": \"Education\",\n      \"properties\": {\n        \"dtype\": \"number\",\n        \"std\": 137.12991708900972,\n        \"min\": 2.6205281757308976,\n        \"max\": 400.0,\n        \"num_unique_values\": 8,\n        \"samples\": [\n          13.9,\n          14.0,\n          400.0\n        ],\n        \"semantic_type\": \"\",\n        \"description\": \"\"\n      }\n    }\n  ]\n}"
            }
          },
          "metadata": {},
          "execution_count": 13
        }
      ]
    },
    {
      "cell_type": "markdown",
      "source": [
        "# 종속변수 & 독립변수 시각화"
      ],
      "metadata": {
        "id": "2JFLNqcr2oXc"
      }
    },
    {
      "cell_type": "code",
      "source": [
        "plt.rcParams['figure.figsize'] = (5, 3)\n",
        "plt.rcParams.update({'font.size': 9})\n",
        "plt.title('광고비가 많을수록 제품 가격이 높아질 것이다.',fontproperties=font_prop)\n",
        "\n",
        "sns.regplot(x='Advertising', y='Price', data=data_1,\n",
        "            order=1, ci=None, scatter_kws={'color' : 'skyblue', 's' : 20, 'edgecolor' : 'grey'})"
      ],
      "metadata": {
        "colab": {
          "base_uri": "https://localhost:8080/",
          "height": 1000
        },
        "id": "LbQ7LjNnYlaH",
        "outputId": "531ac93e-46d1-46cb-dd7f-a168f00cd48a"
      },
      "execution_count": 40,
      "outputs": [
        {
          "output_type": "execute_result",
          "data": {
            "text/plain": [
              "<Axes: title={'center': '광고비가 많을수록 제품 가격이 높아질 것이다.'}, xlabel='Advertising', ylabel='Price'>"
            ]
          },
          "metadata": {},
          "execution_count": 40
        },
        {
          "output_type": "stream",
          "name": "stderr",
          "text": [
            "WARNING:matplotlib.font_manager:findfont: Font family 'NanumGothic' not found.\n",
            "WARNING:matplotlib.font_manager:findfont: Font family 'NanumGothic' not found.\n",
            "WARNING:matplotlib.font_manager:findfont: Font family 'NanumGothic' not found.\n",
            "WARNING:matplotlib.font_manager:findfont: Font family 'NanumGothic' not found.\n",
            "WARNING:matplotlib.font_manager:findfont: Font family 'NanumGothic' not found.\n",
            "WARNING:matplotlib.font_manager:findfont: Font family 'NanumGothic' not found.\n",
            "WARNING:matplotlib.font_manager:findfont: Font family 'NanumGothic' not found.\n",
            "WARNING:matplotlib.font_manager:findfont: Font family 'NanumGothic' not found.\n",
            "WARNING:matplotlib.font_manager:findfont: Font family 'NanumGothic' not found.\n",
            "WARNING:matplotlib.font_manager:findfont: Font family 'NanumGothic' not found.\n",
            "WARNING:matplotlib.font_manager:findfont: Font family 'NanumGothic' not found.\n",
            "WARNING:matplotlib.font_manager:findfont: Font family 'NanumGothic' not found.\n",
            "WARNING:matplotlib.font_manager:findfont: Font family 'NanumGothic' not found.\n",
            "WARNING:matplotlib.font_manager:findfont: Font family 'NanumGothic' not found.\n",
            "WARNING:matplotlib.font_manager:findfont: Font family 'NanumGothic' not found.\n",
            "WARNING:matplotlib.font_manager:findfont: Font family 'NanumGothic' not found.\n",
            "WARNING:matplotlib.font_manager:findfont: Font family 'NanumGothic' not found.\n",
            "WARNING:matplotlib.font_manager:findfont: Font family 'NanumGothic' not found.\n",
            "WARNING:matplotlib.font_manager:findfont: Font family 'NanumGothic' not found.\n",
            "WARNING:matplotlib.font_manager:findfont: Font family 'NanumGothic' not found.\n",
            "WARNING:matplotlib.font_manager:findfont: Font family 'NanumGothic' not found.\n",
            "WARNING:matplotlib.font_manager:findfont: Font family 'NanumGothic' not found.\n",
            "WARNING:matplotlib.font_manager:findfont: Font family 'NanumGothic' not found.\n",
            "WARNING:matplotlib.font_manager:findfont: Font family 'NanumGothic' not found.\n",
            "WARNING:matplotlib.font_manager:findfont: Font family 'NanumGothic' not found.\n",
            "WARNING:matplotlib.font_manager:findfont: Font family 'NanumGothic' not found.\n",
            "WARNING:matplotlib.font_manager:findfont: Font family 'NanumGothic' not found.\n",
            "WARNING:matplotlib.font_manager:findfont: Font family 'NanumGothic' not found.\n",
            "WARNING:matplotlib.font_manager:findfont: Font family 'NanumGothic' not found.\n",
            "WARNING:matplotlib.font_manager:findfont: Font family 'NanumGothic' not found.\n",
            "WARNING:matplotlib.font_manager:findfont: Font family 'NanumGothic' not found.\n",
            "WARNING:matplotlib.font_manager:findfont: Font family 'NanumGothic' not found.\n",
            "WARNING:matplotlib.font_manager:findfont: Font family 'NanumGothic' not found.\n",
            "WARNING:matplotlib.font_manager:findfont: Font family 'NanumGothic' not found.\n",
            "WARNING:matplotlib.font_manager:findfont: Font family 'NanumGothic' not found.\n",
            "WARNING:matplotlib.font_manager:findfont: Font family 'NanumGothic' not found.\n",
            "WARNING:matplotlib.font_manager:findfont: Font family 'NanumGothic' not found.\n",
            "WARNING:matplotlib.font_manager:findfont: Font family 'NanumGothic' not found.\n",
            "WARNING:matplotlib.font_manager:findfont: Font family 'NanumGothic' not found.\n",
            "WARNING:matplotlib.font_manager:findfont: Font family 'NanumGothic' not found.\n",
            "WARNING:matplotlib.font_manager:findfont: Font family 'NanumGothic' not found.\n",
            "WARNING:matplotlib.font_manager:findfont: Font family 'NanumGothic' not found.\n",
            "WARNING:matplotlib.font_manager:findfont: Font family 'NanumGothic' not found.\n",
            "WARNING:matplotlib.font_manager:findfont: Font family 'NanumGothic' not found.\n",
            "WARNING:matplotlib.font_manager:findfont: Font family 'NanumGothic' not found.\n",
            "WARNING:matplotlib.font_manager:findfont: Font family 'NanumGothic' not found.\n",
            "WARNING:matplotlib.font_manager:findfont: Font family 'NanumGothic' not found.\n",
            "WARNING:matplotlib.font_manager:findfont: Font family 'NanumGothic' not found.\n",
            "WARNING:matplotlib.font_manager:findfont: Font family 'NanumGothic' not found.\n",
            "WARNING:matplotlib.font_manager:findfont: Font family 'NanumGothic' not found.\n",
            "WARNING:matplotlib.font_manager:findfont: Font family 'NanumGothic' not found.\n",
            "WARNING:matplotlib.font_manager:findfont: Font family 'NanumGothic' not found.\n",
            "WARNING:matplotlib.font_manager:findfont: Font family 'NanumGothic' not found.\n",
            "WARNING:matplotlib.font_manager:findfont: Font family 'NanumGothic' not found.\n",
            "WARNING:matplotlib.font_manager:findfont: Font family 'NanumGothic' not found.\n",
            "WARNING:matplotlib.font_manager:findfont: Font family 'NanumGothic' not found.\n",
            "WARNING:matplotlib.font_manager:findfont: Font family 'NanumGothic' not found.\n",
            "WARNING:matplotlib.font_manager:findfont: Font family 'NanumGothic' not found.\n",
            "WARNING:matplotlib.font_manager:findfont: Font family 'NanumGothic' not found.\n",
            "WARNING:matplotlib.font_manager:findfont: Font family 'NanumGothic' not found.\n",
            "WARNING:matplotlib.font_manager:findfont: Font family 'NanumGothic' not found.\n",
            "WARNING:matplotlib.font_manager:findfont: Font family 'NanumGothic' not found.\n",
            "WARNING:matplotlib.font_manager:findfont: Font family 'NanumGothic' not found.\n",
            "WARNING:matplotlib.font_manager:findfont: Font family 'NanumGothic' not found.\n"
          ]
        },
        {
          "output_type": "display_data",
          "data": {
            "text/plain": [
              "<Figure size 500x300 with 1 Axes>"
            ],
            "image/png": "[encoded data removed]"
          },
          "metadata": {}
        }
      ]
    },
    {
      "cell_type": "markdown",
      "source": [
        "1. 광고비가 많을수록 제품 가격이 높아질 것이다.\n",
        "해설: 광고비 증가는 브랜드 인지도와 제품 가치를 높여 소비자가 더 높은 가격을 지불할 가능성을 증가시킨다. 따라서 광고비와 가격은 양의 상관관계가 있을 것으로 기대된다."
      ],
      "metadata": {
        "id": "aOb7f__M4OA1"
      }
    },
    {
      "cell_type": "code",
      "source": [
        "sns.regplot(x='CompPrice', y='Price', data=data_1,\n",
        "            scatter_kws={'color': 'skyblue', 's': 20, 'edgecolor': 'k'},\n",
        "            line_kws={'color': 'red'})\n",
        "plt.title('경쟁사 가격이 높을수록 우리 제품의 가격도 높을 것이다.',fontproperties=font_prop)\n",
        "plt.xlabel('Competitor Price')\n",
        "plt.ylabel('Price')\n",
        "plt.show()"
      ],
      "metadata": {
        "colab": {
          "base_uri": "https://localhost:8080/",
          "height": 1000
        },
        "id": "bR4B20s22nSc",
        "outputId": "9ba7795e-0385-415a-bff9-33b86435577a"
      },
      "execution_count": 37,
      "outputs": [
        {
          "output_type": "stream",
          "name": "stderr",
          "text": [
            "WARNING:matplotlib.font_manager:findfont: Font family 'NanumGothic' not found.\n",
            "WARNING:matplotlib.font_manager:findfont: Font family 'NanumGothic' not found.\n",
            "WARNING:matplotlib.font_manager:findfont: Font family 'NanumGothic' not found.\n",
            "WARNING:matplotlib.font_manager:findfont: Font family 'NanumGothic' not found.\n",
            "WARNING:matplotlib.font_manager:findfont: Font family 'NanumGothic' not found.\n",
            "WARNING:matplotlib.font_manager:findfont: Font family 'NanumGothic' not found.\n",
            "WARNING:matplotlib.font_manager:findfont: Font family 'NanumGothic' not found.\n",
            "WARNING:matplotlib.font_manager:findfont: Font family 'NanumGothic' not found.\n",
            "WARNING:matplotlib.font_manager:findfont: Font family 'NanumGothic' not found.\n",
            "WARNING:matplotlib.font_manager:findfont: Font family 'NanumGothic' not found.\n",
            "WARNING:matplotlib.font_manager:findfont: Font family 'NanumGothic' not found.\n",
            "WARNING:matplotlib.font_manager:findfont: Font family 'NanumGothic' not found.\n",
            "WARNING:matplotlib.font_manager:findfont: Font family 'NanumGothic' not found.\n",
            "WARNING:matplotlib.font_manager:findfont: Font family 'NanumGothic' not found.\n",
            "WARNING:matplotlib.font_manager:findfont: Font family 'NanumGothic' not found.\n",
            "WARNING:matplotlib.font_manager:findfont: Font family 'NanumGothic' not found.\n",
            "WARNING:matplotlib.font_manager:findfont: Font family 'NanumGothic' not found.\n",
            "WARNING:matplotlib.font_manager:findfont: Font family 'NanumGothic' not found.\n",
            "WARNING:matplotlib.font_manager:findfont: Font family 'NanumGothic' not found.\n",
            "WARNING:matplotlib.font_manager:findfont: Font family 'NanumGothic' not found.\n",
            "WARNING:matplotlib.font_manager:findfont: Font family 'NanumGothic' not found.\n",
            "WARNING:matplotlib.font_manager:findfont: Font family 'NanumGothic' not found.\n",
            "WARNING:matplotlib.font_manager:findfont: Font family 'NanumGothic' not found.\n",
            "WARNING:matplotlib.font_manager:findfont: Font family 'NanumGothic' not found.\n",
            "WARNING:matplotlib.font_manager:findfont: Font family 'NanumGothic' not found.\n",
            "WARNING:matplotlib.font_manager:findfont: Font family 'NanumGothic' not found.\n",
            "WARNING:matplotlib.font_manager:findfont: Font family 'NanumGothic' not found.\n",
            "WARNING:matplotlib.font_manager:findfont: Font family 'NanumGothic' not found.\n",
            "WARNING:matplotlib.font_manager:findfont: Font family 'NanumGothic' not found.\n",
            "WARNING:matplotlib.font_manager:findfont: Font family 'NanumGothic' not found.\n",
            "WARNING:matplotlib.font_manager:findfont: Font family 'NanumGothic' not found.\n",
            "WARNING:matplotlib.font_manager:findfont: Font family 'NanumGothic' not found.\n",
            "WARNING:matplotlib.font_manager:findfont: Font family 'NanumGothic' not found.\n",
            "WARNING:matplotlib.font_manager:findfont: Font family 'NanumGothic' not found.\n",
            "WARNING:matplotlib.font_manager:findfont: Font family 'NanumGothic' not found.\n",
            "WARNING:matplotlib.font_manager:findfont: Font family 'NanumGothic' not found.\n",
            "WARNING:matplotlib.font_manager:findfont: Font family 'NanumGothic' not found.\n",
            "WARNING:matplotlib.font_manager:findfont: Font family 'NanumGothic' not found.\n",
            "WARNING:matplotlib.font_manager:findfont: Font family 'NanumGothic' not found.\n",
            "WARNING:matplotlib.font_manager:findfont: Font family 'NanumGothic' not found.\n",
            "WARNING:matplotlib.font_manager:findfont: Font family 'NanumGothic' not found.\n",
            "WARNING:matplotlib.font_manager:findfont: Font family 'NanumGothic' not found.\n"
          ]
        },
        {
          "output_type": "display_data",
          "data": {
            "text/plain": [
              "<Figure size 500x300 with 1 Axes>"
            ],
            "image/png": "[encoded data removed]"
          },
          "metadata": {}
        }
      ]
    },
    {
      "cell_type": "markdown",
      "source": [
        "2. 경쟁사의 가격이 높을수록 우리 제품의 가격도 높아질 것이다.\n",
        "해설: 시장에서 경쟁사 제품 가격이 상승하면, 우리 제품도 비슷한 수준으로 가격을 조정하여 수익성을 유지하려는 경향이 있다. 이는 가격 결정에 경쟁 가격이 중요한 변수임을 의미한다."
      ],
      "metadata": {
        "id": "WaX2e6fV5EiZ"
      }
    },
    {
      "cell_type": "code",
      "source": [
        "sns.regplot(x='Advertising', y='Sales', data=data_1,\n",
        "            scatter_kws={'color': 'skyblue', 's': 20, 'edgecolor': 'k'},\n",
        "            line_kws={'color': 'black'})\n",
        "plt.title('광고비가 많을수록 판매량이 증가할 것이다.',fontproperties=font_prop)\n",
        "plt.xlabel('Advertising')\n",
        "plt.ylabel('Sales')\n",
        "plt.show()"
      ],
      "metadata": {
        "colab": {
          "base_uri": "https://localhost:8080/",
          "height": 1000
        },
        "id": "IW-QFzSO5EZN",
        "outputId": "6d20697b-6298-40ab-a4e8-a68cb92df69b"
      },
      "execution_count": 38,
      "outputs": [
        {
          "output_type": "stream",
          "name": "stderr",
          "text": [
            "WARNING:matplotlib.font_manager:findfont: Font family 'NanumGothic' not found.\n",
            "WARNING:matplotlib.font_manager:findfont: Font family 'NanumGothic' not found.\n",
            "WARNING:matplotlib.font_manager:findfont: Font family 'NanumGothic' not found.\n",
            "WARNING:matplotlib.font_manager:findfont: Font family 'NanumGothic' not found.\n",
            "WARNING:matplotlib.font_manager:findfont: Font family 'NanumGothic' not found.\n",
            "WARNING:matplotlib.font_manager:findfont: Font family 'NanumGothic' not found.\n",
            "WARNING:matplotlib.font_manager:findfont: Font family 'NanumGothic' not found.\n",
            "WARNING:matplotlib.font_manager:findfont: Font family 'NanumGothic' not found.\n",
            "WARNING:matplotlib.font_manager:findfont: Font family 'NanumGothic' not found.\n",
            "WARNING:matplotlib.font_manager:findfont: Font family 'NanumGothic' not found.\n",
            "WARNING:matplotlib.font_manager:findfont: Font family 'NanumGothic' not found.\n",
            "WARNING:matplotlib.font_manager:findfont: Font family 'NanumGothic' not found.\n",
            "WARNING:matplotlib.font_manager:findfont: Font family 'NanumGothic' not found.\n",
            "WARNING:matplotlib.font_manager:findfont: Font family 'NanumGothic' not found.\n",
            "WARNING:matplotlib.font_manager:findfont: Font family 'NanumGothic' not found.\n",
            "WARNING:matplotlib.font_manager:findfont: Font family 'NanumGothic' not found.\n",
            "WARNING:matplotlib.font_manager:findfont: Font family 'NanumGothic' not found.\n",
            "WARNING:matplotlib.font_manager:findfont: Font family 'NanumGothic' not found.\n",
            "WARNING:matplotlib.font_manager:findfont: Font family 'NanumGothic' not found.\n",
            "WARNING:matplotlib.font_manager:findfont: Font family 'NanumGothic' not found.\n",
            "WARNING:matplotlib.font_manager:findfont: Font family 'NanumGothic' not found.\n",
            "WARNING:matplotlib.font_manager:findfont: Font family 'NanumGothic' not found.\n",
            "WARNING:matplotlib.font_manager:findfont: Font family 'NanumGothic' not found.\n",
            "WARNING:matplotlib.font_manager:findfont: Font family 'NanumGothic' not found.\n",
            "WARNING:matplotlib.font_manager:findfont: Font family 'NanumGothic' not found.\n",
            "WARNING:matplotlib.font_manager:findfont: Font family 'NanumGothic' not found.\n",
            "WARNING:matplotlib.font_manager:findfont: Font family 'NanumGothic' not found.\n",
            "WARNING:matplotlib.font_manager:findfont: Font family 'NanumGothic' not found.\n",
            "WARNING:matplotlib.font_manager:findfont: Font family 'NanumGothic' not found.\n",
            "WARNING:matplotlib.font_manager:findfont: Font family 'NanumGothic' not found.\n",
            "WARNING:matplotlib.font_manager:findfont: Font family 'NanumGothic' not found.\n",
            "WARNING:matplotlib.font_manager:findfont: Font family 'NanumGothic' not found.\n",
            "WARNING:matplotlib.font_manager:findfont: Font family 'NanumGothic' not found.\n",
            "WARNING:matplotlib.font_manager:findfont: Font family 'NanumGothic' not found.\n",
            "WARNING:matplotlib.font_manager:findfont: Font family 'NanumGothic' not found.\n",
            "WARNING:matplotlib.font_manager:findfont: Font family 'NanumGothic' not found.\n",
            "WARNING:matplotlib.font_manager:findfont: Font family 'NanumGothic' not found.\n",
            "WARNING:matplotlib.font_manager:findfont: Font family 'NanumGothic' not found.\n",
            "WARNING:matplotlib.font_manager:findfont: Font family 'NanumGothic' not found.\n",
            "WARNING:matplotlib.font_manager:findfont: Font family 'NanumGothic' not found.\n",
            "WARNING:matplotlib.font_manager:findfont: Font family 'NanumGothic' not found.\n",
            "WARNING:matplotlib.font_manager:findfont: Font family 'NanumGothic' not found.\n",
            "WARNING:matplotlib.font_manager:findfont: Font family 'NanumGothic' not found.\n",
            "WARNING:matplotlib.font_manager:findfont: Font family 'NanumGothic' not found.\n",
            "WARNING:matplotlib.font_manager:findfont: Font family 'NanumGothic' not found.\n",
            "WARNING:matplotlib.font_manager:findfont: Font family 'NanumGothic' not found.\n",
            "WARNING:matplotlib.font_manager:findfont: Font family 'NanumGothic' not found.\n",
            "WARNING:matplotlib.font_manager:findfont: Font family 'NanumGothic' not found.\n",
            "WARNING:matplotlib.font_manager:findfont: Font family 'NanumGothic' not found.\n",
            "WARNING:matplotlib.font_manager:findfont: Font family 'NanumGothic' not found.\n",
            "WARNING:matplotlib.font_manager:findfont: Font family 'NanumGothic' not found.\n",
            "WARNING:matplotlib.font_manager:findfont: Font family 'NanumGothic' not found.\n"
          ]
        },
        {
          "output_type": "display_data",
          "data": {
            "text/plain": [
              "<Figure size 500x300 with 1 Axes>"
            ],
            "image/png": "[encoded data removed]"
          },
          "metadata": {}
        }
      ]
    },
    {
      "cell_type": "markdown",
      "source": [
        "3. 광고비가 많을수록 판매량이 증가할 것이다.\n",
        "해설: 광고는 소비자에게 제품 정보를 널리 알리고 구매를 유도하는 역할을 한다. 광고비가 증가하면 소비자의 구매 의사결정에 긍정적 영향을 미쳐 판매량 상승이 예상된다."
      ],
      "metadata": {
        "id": "HI1vi-tW5Kk-"
      }
    },
    {
      "cell_type": "code",
      "source": [
        "sns.regplot(x='Income', y='Price', data=data_1,\n",
        "            scatter_kws={'color': 'skyblue', 's': 20, 'edgecolor': 'k'},\n",
        "            line_kws={'color': 'blue'})\n",
        "plt.title('소득 수준이 높을수록 제품의 가격이 높게 책정될 것이다.',fontproperties=font_prop)\n",
        "plt.xlabel('Income')\n",
        "plt.ylabel('Price')\n",
        "plt.show()"
      ],
      "metadata": {
        "colab": {
          "base_uri": "https://localhost:8080/",
          "height": 1000
        },
        "id": "hLQDCrzI5EKN",
        "outputId": "0d8e7fe4-f666-4600-8804-c8b4387d767b"
      },
      "execution_count": 39,
      "outputs": [
        {
          "output_type": "stream",
          "name": "stderr",
          "text": [
            "WARNING:matplotlib.font_manager:findfont: Font family 'NanumGothic' not found.\n",
            "WARNING:matplotlib.font_manager:findfont: Font family 'NanumGothic' not found.\n",
            "WARNING:matplotlib.font_manager:findfont: Font family 'NanumGothic' not found.\n",
            "WARNING:matplotlib.font_manager:findfont: Font family 'NanumGothic' not found.\n",
            "WARNING:matplotlib.font_manager:findfont: Font family 'NanumGothic' not found.\n",
            "WARNING:matplotlib.font_manager:findfont: Font family 'NanumGothic' not found.\n",
            "WARNING:matplotlib.font_manager:findfont: Font family 'NanumGothic' not found.\n",
            "WARNING:matplotlib.font_manager:findfont: Font family 'NanumGothic' not found.\n",
            "WARNING:matplotlib.font_manager:findfont: Font family 'NanumGothic' not found.\n",
            "WARNING:matplotlib.font_manager:findfont: Font family 'NanumGothic' not found.\n",
            "WARNING:matplotlib.font_manager:findfont: Font family 'NanumGothic' not found.\n",
            "WARNING:matplotlib.font_manager:findfont: Font family 'NanumGothic' not found.\n",
            "WARNING:matplotlib.font_manager:findfont: Font family 'NanumGothic' not found.\n",
            "WARNING:matplotlib.font_manager:findfont: Font family 'NanumGothic' not found.\n",
            "WARNING:matplotlib.font_manager:findfont: Font family 'NanumGothic' not found.\n",
            "WARNING:matplotlib.font_manager:findfont: Font family 'NanumGothic' not found.\n",
            "WARNING:matplotlib.font_manager:findfont: Font family 'NanumGothic' not found.\n",
            "WARNING:matplotlib.font_manager:findfont: Font family 'NanumGothic' not found.\n",
            "WARNING:matplotlib.font_manager:findfont: Font family 'NanumGothic' not found.\n",
            "WARNING:matplotlib.font_manager:findfont: Font family 'NanumGothic' not found.\n",
            "WARNING:matplotlib.font_manager:findfont: Font family 'NanumGothic' not found.\n",
            "WARNING:matplotlib.font_manager:findfont: Font family 'NanumGothic' not found.\n",
            "WARNING:matplotlib.font_manager:findfont: Font family 'NanumGothic' not found.\n",
            "WARNING:matplotlib.font_manager:findfont: Font family 'NanumGothic' not found.\n",
            "WARNING:matplotlib.font_manager:findfont: Font family 'NanumGothic' not found.\n",
            "WARNING:matplotlib.font_manager:findfont: Font family 'NanumGothic' not found.\n",
            "WARNING:matplotlib.font_manager:findfont: Font family 'NanumGothic' not found.\n",
            "WARNING:matplotlib.font_manager:findfont: Font family 'NanumGothic' not found.\n",
            "WARNING:matplotlib.font_manager:findfont: Font family 'NanumGothic' not found.\n",
            "WARNING:matplotlib.font_manager:findfont: Font family 'NanumGothic' not found.\n",
            "WARNING:matplotlib.font_manager:findfont: Font family 'NanumGothic' not found.\n",
            "WARNING:matplotlib.font_manager:findfont: Font family 'NanumGothic' not found.\n",
            "WARNING:matplotlib.font_manager:findfont: Font family 'NanumGothic' not found.\n",
            "WARNING:matplotlib.font_manager:findfont: Font family 'NanumGothic' not found.\n",
            "WARNING:matplotlib.font_manager:findfont: Font family 'NanumGothic' not found.\n",
            "WARNING:matplotlib.font_manager:findfont: Font family 'NanumGothic' not found.\n",
            "WARNING:matplotlib.font_manager:findfont: Font family 'NanumGothic' not found.\n",
            "WARNING:matplotlib.font_manager:findfont: Font family 'NanumGothic' not found.\n",
            "WARNING:matplotlib.font_manager:findfont: Font family 'NanumGothic' not found.\n",
            "WARNING:matplotlib.font_manager:findfont: Font family 'NanumGothic' not found.\n",
            "WARNING:matplotlib.font_manager:findfont: Font family 'NanumGothic' not found.\n",
            "WARNING:matplotlib.font_manager:findfont: Font family 'NanumGothic' not found.\n",
            "WARNING:matplotlib.font_manager:findfont: Font family 'NanumGothic' not found.\n",
            "WARNING:matplotlib.font_manager:findfont: Font family 'NanumGothic' not found.\n",
            "WARNING:matplotlib.font_manager:findfont: Font family 'NanumGothic' not found.\n"
          ]
        },
        {
          "output_type": "display_data",
          "data": {
            "text/plain": [
              "<Figure size 500x300 with 1 Axes>"
            ],
            "image/png": "[encoded data removed]"
          },
          "metadata": {}
        }
      ]
    },
    {
      "cell_type": "markdown",
      "source": [
        "4. 소득 수준이 높을수록 제품의 가격이 높게 책정될 것이다.\n",
        "해설: 소득 수준이 높은 지역은 소비 여력이 크기 때문에 기업이 프리미엄 가격 전략을 적용할 수 있다. 이에 따라 지역 소득과 제품 가격 사이에 양의 관계가 존재할 가능성이 크다."
      ],
      "metadata": {
        "id": "o2_oVRnX5NyX"
      }
    },
    {
      "cell_type": "markdown",
      "source": [
        "# 단순 회귀\n",
        "\n"
      ],
      "metadata": {
        "id": "4ODY5mxX5y0s"
      }
    },
    {
      "cell_type": "code",
      "source": [
        "model = smf.ols('Price ~ Advertising', data=data_1)\n",
        "olsfit = model.fit()\n",
        "print(olsfit.summary())"
      ],
      "metadata": {
        "colab": {
          "base_uri": "https://localhost:8080/"
        },
        "id": "zZAavZBVmjlO",
        "outputId": "8b8cb993-1278-49a6-9656-31d095503ba7"
      },
      "execution_count": 15,
      "outputs": [
        {
          "output_type": "stream",
          "name": "stdout",
          "text": [
            "                            OLS Regression Results                            \n",
            "==============================================================================\n",
            "Dep. Variable:                  Price   R-squared:                       0.002\n",
            "Model:                            OLS   Adj. R-squared:                 -0.001\n",
            "Method:                 Least Squares   F-statistic:                    0.7910\n",
            "Date:                Wed, 09 Jul 2025   Prob (F-statistic):              0.374\n",
            "Time:                        05:43:05   Log-Likelihood:                -1832.5\n",
            "No. Observations:                 400   AIC:                             3669.\n",
            "Df Residuals:                     398   BIC:                             3677.\n",
            "Df Model:                           1                                         \n",
            "Covariance Type:            nonrobust                                         \n",
            "===============================================================================\n",
            "                  coef    std err          t      P>|t|      [0.025      0.975]\n",
            "-------------------------------------------------------------------------------\n",
            "Intercept     114.7430      1.674     68.555      0.000     111.452     118.033\n",
            "Advertising     0.1586      0.178      0.889      0.374      -0.192       0.509\n",
            "==============================================================================\n",
            "Omnibus:                        3.408   Durbin-Watson:                   2.047\n",
            "Prob(Omnibus):                  0.182   Jarque-Bera (JB):                3.534\n",
            "Skew:                          -0.112   Prob(JB):                        0.171\n",
            "Kurtosis:                       3.403   Cond. No.                         13.3\n",
            "==============================================================================\n",
            "\n",
            "Notes:\n",
            "[1] Standard Errors assume that the covariance matrix of the errors is correctly specified.\n"
          ]
        }
      ]
    },
    {
      "cell_type": "markdown",
      "source": [
        "# 다중 회귀"
      ],
      "metadata": {
        "id": "NMs5YqbFNf55"
      }
    },
    {
      "cell_type": "code",
      "source": [
        "model = smf.ols('Price ~ Advertising + CompPrice  ', data=data_1)\n",
        "olsfit = model.fit()\n",
        "print(olsfit.summary())"
      ],
      "metadata": {
        "colab": {
          "base_uri": "https://localhost:8080/"
        },
        "id": "xPAAAjJTNcde",
        "outputId": "8a179dad-cb6c-4768-e916-ed60bcd961d2"
      },
      "execution_count": 45,
      "outputs": [
        {
          "output_type": "stream",
          "name": "stdout",
          "text": [
            "                            OLS Regression Results                            \n",
            "==============================================================================\n",
            "Dep. Variable:                  Price   R-squared:                       0.345\n",
            "Model:                            OLS   Adj. R-squared:                  0.342\n",
            "Method:                 Least Squares   F-statistic:                     104.8\n",
            "Date:                Wed, 09 Jul 2025   Prob (F-statistic):           2.88e-37\n",
            "Time:                        08:03:22   Log-Likelihood:                -1748.1\n",
            "No. Observations:                 400   AIC:                             3502.\n",
            "Df Residuals:                     397   BIC:                             3514.\n",
            "Df Model:                           2                                         \n",
            "Covariance Type:            nonrobust                                         \n",
            "===============================================================================\n",
            "                  coef    std err          t      P>|t|      [0.025      0.975]\n",
            "-------------------------------------------------------------------------------\n",
            "Intercept       1.2797      7.977      0.160      0.873     -14.402      16.962\n",
            "Advertising     0.2091      0.145      1.446      0.149      -0.075       0.493\n",
            "CompPrice       0.9052      0.063     14.435      0.000       0.782       1.028\n",
            "==============================================================================\n",
            "Omnibus:                        0.025   Durbin-Watson:                   1.946\n",
            "Prob(Omnibus):                  0.987   Jarque-Bera (JB):                0.025\n",
            "Skew:                          -0.016   Prob(JB):                        0.988\n",
            "Kurtosis:                       2.979   Cond. No.                     1.05e+03\n",
            "==============================================================================\n",
            "\n",
            "Notes:\n",
            "[1] Standard Errors assume that the covariance matrix of the errors is correctly specified.\n",
            "[2] The condition number is large, 1.05e+03. This might indicate that there are\n",
            "strong multicollinearity or other numerical problems.\n"
          ]
        }
      ]
    },
    {
      "cell_type": "markdown",
      "source": [
        "# 전진 선택"
      ],
      "metadata": {
        "id": "YAFhufYh513A"
      }
    },
    {
      "cell_type": "code",
      "source": [
        "model = smf.ols('Price ~ Advertising + CompPrice\t+ Sales  ', data=data_1)\n",
        "olsfit = model.fit()\n",
        "print(olsfit.summary())"
      ],
      "metadata": {
        "colab": {
          "base_uri": "https://localhost:8080/"
        },
        "id": "GFxNyIXPnSBS",
        "outputId": "258a7773-7dd0-4e3c-cf79-a3ce70c5c381"
      },
      "execution_count": 16,
      "outputs": [
        {
          "output_type": "stream",
          "name": "stdout",
          "text": [
            "                            OLS Regression Results                            \n",
            "==============================================================================\n",
            "Dep. Variable:                  Price   R-squared:                       0.615\n",
            "Model:                            OLS   Adj. R-squared:                  0.612\n",
            "Method:                 Least Squares   F-statistic:                     210.6\n",
            "Date:                Wed, 09 Jul 2025   Prob (F-statistic):           1.19e-81\n",
            "Time:                        05:43:05   Log-Likelihood:                -1642.1\n",
            "No. Observations:                 400   AIC:                             3292.\n",
            "Df Residuals:                     396   BIC:                             3308.\n",
            "Df Model:                           3                                         \n",
            "Covariance Type:            nonrobust                                         \n",
            "===============================================================================\n",
            "                  coef    std err          t      P>|t|      [0.025      0.975]\n",
            "-------------------------------------------------------------------------------\n",
            "Intercept      24.4089      6.283      3.885      0.000      12.056      36.762\n",
            "Advertising     0.7308      0.115      6.331      0.000       0.504       0.958\n",
            "CompPrice       0.9641      0.048     19.960      0.000       0.869       1.059\n",
            "Sales          -4.5296      0.272    -16.636      0.000      -5.065      -3.994\n",
            "==============================================================================\n",
            "Omnibus:                        4.278   Durbin-Watson:                   2.010\n",
            "Prob(Omnibus):                  0.118   Jarque-Bera (JB):                4.069\n",
            "Skew:                           0.203   Prob(JB):                        0.131\n",
            "Kurtosis:                       3.280   Cond. No.                     1.08e+03\n",
            "==============================================================================\n",
            "\n",
            "Notes:\n",
            "[1] Standard Errors assume that the covariance matrix of the errors is correctly specified.\n",
            "[2] The condition number is large, 1.08e+03. This might indicate that there are\n",
            "strong multicollinearity or other numerical problems.\n"
          ]
        }
      ]
    },
    {
      "cell_type": "markdown",
      "source": [
        "- 단순 회귀 모델로 봤을 때\n",
        "R-squared: 약 0.002 ~ 0.347로 낮거나 중간 수준\n",
        "주요 변수: CompPrice는 통계적으로 매우 유의했으나(p < 0.001), Advertising 등 다른 변수는 유의하지 않음\n",
        "- 다중 회귀 모델로 봤을 때\n",
        "R-squared: 0.615로 매우 높음 (61.5%의 가격 변동 설명)\n",
        "주요 변수: Advertising, CompPrice, Sales 모두 통계적으로 유의미(p < 0.001)\n",
        "\n",
        "결과 값이 나와서 단순 보다 다중이 더 유의미한 변수결과를 가진것을 알 수 있습니다"
      ],
      "metadata": {
        "id": "ZbfDrUiptxs3"
      }
    },
    {
      "cell_type": "code",
      "source": [],
      "metadata": {
        "id": "TLwYTFGistVw"
      },
      "execution_count": null,
      "outputs": []
    },
    {
      "cell_type": "code",
      "source": [],
      "metadata": {
        "id": "lnrmKczNstT-"
      },
      "execution_count": null,
      "outputs": []
    },
    {
      "cell_type": "code",
      "source": [],
      "metadata": {
        "id": "qLiXqblistSF"
      },
      "execution_count": null,
      "outputs": []
    },
    {
      "cell_type": "code",
      "source": [],
      "metadata": {
        "id": "NpEycYYRstP7"
      },
      "execution_count": null,
      "outputs": []
    },
    {
      "cell_type": "code",
      "source": [],
      "metadata": {
        "id": "p7vx-6u9stN7"
      },
      "execution_count": null,
      "outputs": []
    },
    {
      "cell_type": "code",
      "source": [],
      "metadata": {
        "id": "8StN5C51stLx"
      },
      "execution_count": null,
      "outputs": []
    },
    {
      "cell_type": "code",
      "source": [],
      "metadata": {
        "id": "Nh7G500wstJ1"
      },
      "execution_count": null,
      "outputs": []
    },
    {
      "cell_type": "code",
      "source": [],
      "metadata": {
        "id": "x595MXTzstHt"
      },
      "execution_count": null,
      "outputs": []
    },
    {
      "cell_type": "code",
      "source": [],
      "metadata": {
        "id": "NSMMWSlRstFt"
      },
      "execution_count": null,
      "outputs": []
    },
    {
      "cell_type": "code",
      "source": [],
      "metadata": {
        "id": "nZYFG8ZmstDx"
      },
      "execution_count": null,
      "outputs": []
    },
    {
      "cell_type": "code",
      "source": [],
      "metadata": {
        "id": "2JZQ6tr3stB2"
      },
      "execution_count": null,
      "outputs": []
    },
    {
      "cell_type": "code",
      "source": [],
      "metadata": {
        "id": "OlcD1Mq8ss_y"
      },
      "execution_count": null,
      "outputs": []
    },
    {
      "cell_type": "code",
      "source": [],
      "metadata": {
        "id": "nRtLp5B5ss98"
      },
      "execution_count": null,
      "outputs": []
    },
    {
      "cell_type": "code",
      "source": [],
      "metadata": {
        "id": "LFuAPLLgss8A"
      },
      "execution_count": null,
      "outputs": []
    },
    {
      "cell_type": "code",
      "source": [],
      "metadata": {
        "id": "1JEQ24Bwss5z"
      },
      "execution_count": null,
      "outputs": []
    },
    {
      "cell_type": "code",
      "source": [],
      "metadata": {
        "id": "T95Gilbgss31"
      },
      "execution_count": null,
      "outputs": []
    },
    {
      "cell_type": "code",
      "source": [],
      "metadata": {
        "id": "u2CPg_rsss1z"
      },
      "execution_count": null,
      "outputs": []
    },
    {
      "cell_type": "code",
      "source": [],
      "metadata": {
        "id": "ZtOn2ZJgssz5"
      },
      "execution_count": null,
      "outputs": []
    },
    {
      "cell_type": "code",
      "source": [],
      "metadata": {
        "id": "bHmDSfPGssx0"
      },
      "execution_count": null,
      "outputs": []
    },
    {
      "cell_type": "code",
      "source": [],
      "metadata": {
        "id": "i2Ssbwk6ssvy"
      },
      "execution_count": null,
      "outputs": []
    },
    {
      "cell_type": "code",
      "source": [],
      "metadata": {
        "id": "n8MHG-sZssr9"
      },
      "execution_count": null,
      "outputs": []
    },
    {
      "cell_type": "code",
      "source": [],
      "metadata": {
        "id": "P8xafvIxssqD"
      },
      "execution_count": null,
      "outputs": []
    },
    {
      "cell_type": "code",
      "source": [],
      "metadata": {
        "id": "fIkhbn49ssoM"
      },
      "execution_count": null,
      "outputs": []
    },
    {
      "cell_type": "code",
      "source": [],
      "metadata": {
        "id": "uTJGOVm0ssmY"
      },
      "execution_count": null,
      "outputs": []
    },
    {
      "cell_type": "code",
      "source": [],
      "metadata": {
        "id": "dhxqkl0pssk1"
      },
      "execution_count": null,
      "outputs": []
    },
    {
      "cell_type": "code",
      "source": [],
      "metadata": {
        "id": "FXR_Tdb6ssjA"
      },
      "execution_count": null,
      "outputs": []
    },
    {
      "cell_type": "code",
      "source": [],
      "metadata": {
        "id": "TR0Rnxb9sshH"
      },
      "execution_count": null,
      "outputs": []
    },
    {
      "cell_type": "code",
      "source": [],
      "metadata": {
        "id": "EzbIe8RzssfP"
      },
      "execution_count": null,
      "outputs": []
    },
    {
      "cell_type": "code",
      "source": [],
      "metadata": {
        "id": "iSjcXD4assdR"
      },
      "execution_count": null,
      "outputs": []
    },
    {
      "cell_type": "code",
      "source": [],
      "metadata": {
        "id": "_UeFZaz0ssbJ"
      },
      "execution_count": null,
      "outputs": []
    }
  ]
}